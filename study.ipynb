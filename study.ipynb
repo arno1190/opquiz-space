{
 "cells": [
  {
   "cell_type": "code",
   "execution_count": 2,
   "id": "7266ae1e-5b6a-4e63-9032-6aa5d73bb0b4",
   "metadata": {},
   "outputs": [],
   "source": [
    "import models as m\n",
    "import sqlalchemy as sa\n",
    "\n",
    "engine = sa.create_engine(\"sqlite:///quiz.db\")\n",
    "SessionMaker = sa.orm.sessionmaker(autocommit=False, autoflush=False, bind=engine)\n",
    "session = SessionMaker()"
   ]
  },
  {
   "cell_type": "code",
   "execution_count": 3,
   "id": "2665e3ff-40a8-4241-b333-f3dadb6e6a9d",
   "metadata": {},
   "outputs": [
    {
     "name": "stdout",
     "output_type": "stream",
     "text": [
      "[(<Site n°1 - GigaWatt Llama Ranch>,), (<Site n°2 - Sunny Side of the Moon>,), (<Site n°3 - River Dance Powerhouse>,), (<Site n°4 - Turbine Nation Offshore>,), (<Site n°5 - Sunshine & Chill Canopy>,), (<Site n°6 - Watts in the Attic>,), (<Site n°7 - Flow like a River>,), (<Site n°8 - Juicy Biomass Co-op>,), (<Site n°9 - Offshore Avengers>,), (<Site n°10 - Trash into Cash>,)]\n"
     ]
    }
   ],
   "source": [
    "# example query sites\n",
    "sites_query = sa.select(m.Site)\n",
    "sites = session.execute(sites_query).all()\n",
    "print(sites[:10])"
   ]
  },
  {
   "cell_type": "code",
   "execution_count": 5,
   "id": "5095a054-5bc4-437a-a86b-f2a67264d667",
   "metadata": {},
   "outputs": [
    {
     "data": {
      "text/plain": [
       "{'_sa_instance_state': <sqlalchemy.orm.state.InstanceState at 0x7bb8319a7f50>,\n",
       " 'name': 'GigaWatt Llama Ranch',\n",
       " 'techno': <Techno.wind_turbine_onshore: 'wind_turbine_onshore'>,\n",
       " 'id': 1,\n",
       " 'capacity': 45000.0}"
      ]
     },
     "execution_count": 5,
     "metadata": {},
     "output_type": "execute_result"
    }
   ],
   "source": [
    "sites = session.query(m.Site).all()\n",
    "sites[0].__dict__"
   ]
  }
 ],
 "metadata": {
  "kernelspec": {
   "display_name": "Python 3",
   "language": "python",
   "name": "python3"
  },
  "language_info": {
   "codemirror_mode": {
    "name": "ipython",
    "version": 3
   },
   "file_extension": ".py",
   "mimetype": "text/x-python",
   "name": "python",
   "nbconvert_exporter": "python",
   "pygments_lexer": "ipython3",
   "version": "3.12.6"
  }
 },
 "nbformat": 4,
 "nbformat_minor": 5
}
